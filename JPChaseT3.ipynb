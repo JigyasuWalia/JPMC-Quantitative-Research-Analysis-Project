{
 "cells": [
  {
   "cell_type": "code",
   "execution_count": 5,
   "id": "a1e0022c-e2d7-455c-ac8e-975808f98ac0",
   "metadata": {},
   "outputs": [
    {
     "name": "stdout",
     "output_type": "stream",
     "text": [
      "      Probability_of_Default  Expected_Loss\n",
      "6252                    0.00       0.000000\n",
      "4684                    0.15     785.835878\n",
      "1731                    1.00    4808.873894\n",
      "4742                    0.00       0.000000\n",
      "4521                    0.00       0.000000\n",
      "Accuracy: 0.9945\n",
      "Confusion Matrix:\n",
      "[[1649    3]\n",
      " [   8  340]]\n",
      "Classification Report:\n",
      "              precision    recall  f1-score   support\n",
      "\n",
      "           0       1.00      1.00      1.00      1652\n",
      "           1       0.99      0.98      0.98       348\n",
      "\n",
      "    accuracy                           0.99      2000\n",
      "   macro avg       0.99      0.99      0.99      2000\n",
      "weighted avg       0.99      0.99      0.99      2000\n",
      "\n"
     ]
    }
   ],
   "source": [
    "import pandas as pd\n",
    "from sklearn.model_selection import train_test_split\n",
    "from sklearn.preprocessing import StandardScaler\n",
    "from sklearn.ensemble import RandomForestClassifier\n",
    "from sklearn.metrics import accuracy_score, confusion_matrix, classification_report\n",
    "\n",
    "# Load the dataset\n",
    "data = pd.read_csv('Task 3 and 4_Loan_Data.csv')\n",
    "\n",
    "# Strip spaces from column names if necessary\n",
    "data.columns = data.columns.str.strip()\n",
    "\n",
    "# Define features and target variable based on the data file\n",
    "features = ['credit_lines_outstanding', 'loan_amt_outstanding', 'total_debt_outstanding',\n",
    "            'income', 'years_employed', 'fico_score']\n",
    "target = 'default'\n",
    "\n",
    "# Check if all features and target are present in the DataFrame\n",
    "missing_features = [feature for feature in features if feature not in data.columns]\n",
    "if missing_features:\n",
    "    print(f\"Missing features: {missing_features}\")\n",
    "else:\n",
    "    # Split data into training and testing sets\n",
    "    X_train, X_test, y_train, y_test = train_test_split(data[features], data[target], test_size=0.2, random_state=42)\n",
    "\n",
    "    # Standardize features\n",
    "    scaler = StandardScaler()\n",
    "    X_train_scaled = scaler.fit_transform(X_train)\n",
    "    X_test_scaled = scaler.transform(X_test)\n",
    "\n",
    "    # Train a Random Forest Classifier\n",
    "    model = RandomForestClassifier(n_estimators=100, random_state=42)\n",
    "    model.fit(X_train_scaled, y_train)\n",
    "\n",
    "    # Predict probabilities on the test set\n",
    "    y_pred_proba = model.predict_proba(X_test_scaled)[:, 1]\n",
    "\n",
    "    # Calculate expected loss function\n",
    "    def expected_loss(probability_of_default, loan_amount, recovery_rate=0.1):\n",
    "        return loan_amount * (1 - recovery_rate) * probability_of_default\n",
    "\n",
    "    # Example usage: Calculate expected loss for each loan in the test set\n",
    "    test_data_with_predictions = X_test.copy()\n",
    "    test_data_with_predictions['Probability_of_Default'] = y_pred_proba\n",
    "    test_data_with_predictions['Expected_Loss'] = test_data_with_predictions.apply(\n",
    "        lambda row: expected_loss(row['Probability_of_Default'], row['loan_amt_outstanding']), axis=1)\n",
    "\n",
    "    print(test_data_with_predictions[['Probability_of_Default', 'Expected_Loss']].head())\n",
    "\n",
    "    # Evaluate model performance\n",
    "    accuracy = accuracy_score(y_test, model.predict(X_test_scaled))\n",
    "    conf_matrix = confusion_matrix(y_test, model.predict(X_test_scaled))\n",
    "    class_report = classification_report(y_test, model.predict(X_test_scaled))\n",
    "\n",
    "    print(f\"Accuracy: {accuracy}\")\n",
    "    print(\"Confusion Matrix:\")\n",
    "    print(conf_matrix)\n",
    "    print(\"Classification Report:\")\n",
    "    print(class_report)"
   ]
  },
  {
   "cell_type": "code",
   "execution_count": null,
   "id": "39fabac0-88c4-4d79-a761-bba94c28588c",
   "metadata": {},
   "outputs": [],
   "source": []
  }
 ],
 "metadata": {
  "kernelspec": {
   "display_name": "Python 3 (ipykernel)",
   "language": "python",
   "name": "python3"
  },
  "language_info": {
   "codemirror_mode": {
    "name": "ipython",
    "version": 3
   },
   "file_extension": ".py",
   "mimetype": "text/x-python",
   "name": "python",
   "nbconvert_exporter": "python",
   "pygments_lexer": "ipython3",
   "version": "3.12.4"
  }
 },
 "nbformat": 4,
 "nbformat_minor": 5
}
