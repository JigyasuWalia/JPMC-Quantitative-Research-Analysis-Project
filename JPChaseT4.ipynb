{
 "cells": [
  {
   "cell_type": "code",
   "execution_count": 1,
   "id": "2bc98424-e2d5-431e-adbe-7e0a878b32b4",
   "metadata": {},
   "outputs": [
    {
     "name": "stdout",
     "output_type": "stream",
     "text": [
      "Bucket Centers: [628.66990291 674.98504741 732.81713463 520.55672823 581.19868173]\n",
      "Mean Squared Error: 298.5909680406373\n",
      "Log-Likelihood: -4274.599983972711\n",
      "   fico_score  fico_bucket  fico_rating\n",
      "0         605            0            5\n",
      "1         572            4            1\n",
      "2         602            4            1\n",
      "3         612            0            5\n",
      "4         631            0            5\n"
     ]
    }
   ],
   "source": [
    "import pandas as pd\n",
    "import numpy as np\n",
    "from sklearn.cluster import KMeans\n",
    "from sklearn.metrics import mean_squared_error\n",
    "\n",
    "# Load the dataset\n",
    "data = pd.read_csv('Task 3 and 4_Loan_Data.csv')\n",
    "\n",
    "# Extract FICO scores and default status\n",
    "fico_scores = data['fico_score'].values.reshape(-1, 1)\n",
    "defaults = data['default'].values\n",
    "\n",
    "# Define the number of buckets\n",
    "num_buckets = 5\n",
    "\n",
    "# Use KMeans to find bucket boundaries\n",
    "kmeans = KMeans(n_clusters=num_buckets, random_state=0)\n",
    "data['fico_bucket'] = kmeans.fit_predict(fico_scores)\n",
    "\n",
    "# Calculate MSE for each bucket\n",
    "bucket_centers = kmeans.cluster_centers_.flatten()\n",
    "mse = mean_squared_error(fico_scores, [bucket_centers[b] for b in data['fico_bucket']])\n",
    "\n",
    "print(\"Bucket Centers:\", bucket_centers)\n",
    "print(\"Mean Squared Error:\", mse)\n",
    "\n",
    "# Calculate log-likelihood\n",
    "log_likelihood = 0\n",
    "for i in range(num_buckets):\n",
    "    bucket_data = data[data['fico_bucket'] == i]\n",
    "    ni = len(bucket_data)\n",
    "    ki = bucket_data['default'].sum()\n",
    "    pi = ki / ni if ni > 0 else 0\n",
    "    \n",
    "    if ni > 0 and pi > 0 and pi < 1:\n",
    "        log_likelihood += ki * np.log(pi) + (ni - ki) * np.log(1 - pi)\n",
    "\n",
    "print(\"Log-Likelihood:\", log_likelihood)\n",
    "\n",
    "# Map FICO scores to ratings (lower rating signifies better credit score)\n",
    "data['fico_rating'] = data['fico_bucket'].apply(lambda x: num_buckets - x)\n",
    "\n",
    "# Display sample mapping\n",
    "print(data[['fico_score', 'fico_bucket', 'fico_rating']].head())"
   ]
  },
  {
   "cell_type": "code",
   "execution_count": null,
   "id": "d51a9829-22f3-4c5f-9cfe-642bf80814aa",
   "metadata": {},
   "outputs": [],
   "source": []
  }
 ],
 "metadata": {
  "kernelspec": {
   "display_name": "Python 3 (ipykernel)",
   "language": "python",
   "name": "python3"
  },
  "language_info": {
   "codemirror_mode": {
    "name": "ipython",
    "version": 3
   },
   "file_extension": ".py",
   "mimetype": "text/x-python",
   "name": "python",
   "nbconvert_exporter": "python",
   "pygments_lexer": "ipython3",
   "version": "3.12.4"
  }
 },
 "nbformat": 4,
 "nbformat_minor": 5
}
