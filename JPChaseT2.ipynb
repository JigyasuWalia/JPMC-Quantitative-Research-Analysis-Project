{
 "cells": [
  {
   "cell_type": "code",
   "execution_count": 1,
   "id": "a1df1a81-6270-4123-bc3a-f42e4865e936",
   "metadata": {},
   "outputs": [
    {
     "name": "stdout",
     "output_type": "stream",
     "text": [
      "Injected gas on 2022-01-01 at a price of 20\n",
      "Withdrew gas on 2022-01-27 at a price of 23\n",
      "Injected gas on 2022-02-01 at a price of 21\n",
      "Withdrew gas on 2022-02-15 at a price of 19\n",
      "Injected gas on 2022-02-21 at a price of 20.5\n",
      "Withdrew gas on 2022-03-20 at a price of 21\n",
      "Injected gas on 2022-04-01 at a price of 22\n",
      "Withdrew gas on 2022-06-01 at a price of 25\n",
      "\n",
      "The value of the contract is: $389600.00\n"
     ]
    }
   ],
   "source": [
    "from datetime import date\n",
    "import math\n",
    "\n",
    "def evaluate_contract(inject_dates, inject_prices, withdraw_dates, withdraw_prices, flow_rate, storage_fee, max_volume, handling_fee):\n",
    "    current_volume = 0\n",
    "    purchase_cost = 0\n",
    "    total_revenue = 0\n",
    "\n",
    "\n",
    "    event_dates = sorted(set(inject_dates + withdraw_dates))\n",
    "\n",
    "    for current_date in event_dates:\n",
    "        if current_date in inject_dates:\n",
    "\n",
    "            if current_volume + flow_rate <= max_volume:\n",
    "                current_volume += flow_rate\n",
    "                purchase_cost += flow_rate * inject_prices[inject_dates.index(current_date)]\n",
    "                purchase_cost += flow_rate * handling_fee\n",
    "                print(f\"Injected gas on {current_date} at a price of {inject_prices[inject_dates.index(current_date)]}\")\n",
    "            else:\n",
    "                print(f\"Cannot inject on {current_date} due to insufficient storage space\")\n",
    "        \n",
    "        elif current_date in withdraw_dates:\n",
    "\n",
    "            if current_volume >= flow_rate:\n",
    "                current_volume -= flow_rate\n",
    "                total_revenue += flow_rate * withdraw_prices[withdraw_dates.index(current_date)]\n",
    "                total_revenue -= flow_rate * handling_fee\n",
    "                print(f\"Withdrew gas on {current_date} at a price of {withdraw_prices[withdraw_dates.index(current_date)]}\")\n",
    "            else:\n",
    "                print(f\"Cannot withdraw on {current_date} due to insufficient gas volume\")\n",
    "\n",
    "\n",
    "    duration_months = math.ceil((max(withdraw_dates) - min(inject_dates)).days / 30)\n",
    "    total_storage_cost = duration_months * storage_fee\n",
    "\n",
    "\n",
    "    net_value = total_revenue - purchase_cost - total_storage_cost\n",
    "    \n",
    "    return net_value\n",
    "\n",
    "# Example usage of evaluate_contract()\n",
    "inject_dates = [date(2022, 1, 1), date(2022, 2, 1), date(2022, 2, 21), date(2022, 4, 1)]\n",
    "inject_prices = [20, 21, 20.5, 22]\n",
    "withdraw_dates = [date(2022, 1, 27), date(2022, 2, 15), date(2022, 3, 20), date(2022, 6, 1)]\n",
    "withdraw_prices = [23, 19, 21, 25]\n",
    "flow_rate = 100000\n",
    "storage_fee = 10000\n",
    "handling_fee = 0.0005\n",
    "max_volume = 500000\n",
    "\n",
    "contract_value = evaluate_contract(inject_dates, inject_prices, withdraw_dates, withdraw_prices, flow_rate, storage_fee, max_volume, handling_fee)\n",
    "\n",
    "print(f\"\\nThe value of the contract is: ${contract_value:.2f}\")"
   ]
  },
  {
   "cell_type": "code",
   "execution_count": null,
   "id": "68fcfde1-7b43-4b8d-9ec1-4e360bb3ab0d",
   "metadata": {},
   "outputs": [],
   "source": []
  }
 ],
 "metadata": {
  "kernelspec": {
   "display_name": "Python 3 (ipykernel)",
   "language": "python",
   "name": "python3"
  },
  "language_info": {
   "codemirror_mode": {
    "name": "ipython",
    "version": 3
   },
   "file_extension": ".py",
   "mimetype": "text/x-python",
   "name": "python",
   "nbconvert_exporter": "python",
   "pygments_lexer": "ipython3",
   "version": "3.12.4"
  }
 },
 "nbformat": 4,
 "nbformat_minor": 5
}
